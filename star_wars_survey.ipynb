{
 "cells": [
  {
   "cell_type": "markdown",
   "metadata": {},
   "source": [
    "# Cleaning and Analyzing Star Wars Survey Data"
   ]
  },
  {
   "cell_type": "code",
   "execution_count": 32,
   "metadata": {},
   "outputs": [],
   "source": [
    "import pandas as pd\n",
    "import numpy as np\n",
    "import matplotlib.pyplot as plt"
   ]
  },
  {
   "cell_type": "markdown",
   "metadata": {},
   "source": [
    "The data set has some characters that aren't in Python's default utf-8. So we need to specify the encoding below:"
   ]
  },
  {
   "cell_type": "code",
   "execution_count": 33,
   "metadata": {},
   "outputs": [],
   "source": [
    "star_wars = pd.read_csv('./data/star_wars.csv', encoding=\"ISO-8859-1\") "
   ]
  },
  {
   "cell_type": "code",
   "execution_count": 34,
   "metadata": {},
   "outputs": [
    {
     "data": {
      "text/plain": [
       "Index(['RespondentID',\n",
       "       'Have you seen any of the 6 films in the Star Wars franchise?',\n",
       "       'Do you consider yourself to be a fan of the Star Wars film franchise?',\n",
       "       'Which of the following Star Wars films have you seen? Please select all that apply.',\n",
       "       'Unnamed: 4', 'Unnamed: 5', 'Unnamed: 6', 'Unnamed: 7', 'Unnamed: 8',\n",
       "       'Please rank the Star Wars films in order of preference with 1 being your favorite film in the franchise and 6 being your least favorite film.',\n",
       "       'Unnamed: 10', 'Unnamed: 11', 'Unnamed: 12', 'Unnamed: 13',\n",
       "       'Unnamed: 14',\n",
       "       'Please state whether you view the following characters favorably, unfavorably, or are unfamiliar with him/her.',\n",
       "       'Unnamed: 16', 'Unnamed: 17', 'Unnamed: 18', 'Unnamed: 19',\n",
       "       'Unnamed: 20', 'Unnamed: 21', 'Unnamed: 22', 'Unnamed: 23',\n",
       "       'Unnamed: 24', 'Unnamed: 25', 'Unnamed: 26', 'Unnamed: 27',\n",
       "       'Unnamed: 28', 'Which character shot first?',\n",
       "       'Are you familiar with the Expanded Universe?',\n",
       "       'Do you consider yourself to be a fan of the Expanded Universe?ÂÃ¦',\n",
       "       'Do you consider yourself to be a fan of the Star Trek franchise?',\n",
       "       'Gender', 'Age', 'Household Income', 'Education',\n",
       "       'Location (Census Region)'],\n",
       "      dtype='object')"
      ]
     },
     "execution_count": 34,
     "metadata": {},
     "output_type": "execute_result"
    }
   ],
   "source": [
    "star_wars.columns"
   ]
  },
  {
   "cell_type": "markdown",
   "metadata": {},
   "source": [
    "## Remove rows where RespondentID is NaN"
   ]
  },
  {
   "cell_type": "code",
   "execution_count": 35,
   "metadata": {},
   "outputs": [],
   "source": [
    "star_wars = star_wars[star_wars['RespondentID'].notnull()]"
   ]
  },
  {
   "cell_type": "markdown",
   "metadata": {},
   "source": [
    "## Map values in second and third columns from ('Yes', 'No' strings and NaN values) to (boolean values and NaN values)"
   ]
  },
  {
   "cell_type": "code",
   "execution_count": 36,
   "metadata": {},
   "outputs": [],
   "source": [
    "yes_no = {\n",
    "    'Yes': True,\n",
    "    'No' : False\n",
    "}\n",
    "\n",
    "star_wars[star_wars.columns[1]] =  star_wars[star_wars.columns[1]].map(yes_no)\n",
    "star_wars[star_wars.columns[2]] =  star_wars[star_wars.columns[2]].map(yes_no)"
   ]
  },
  {
   "cell_type": "markdown",
   "metadata": {},
   "source": [
    "## Map values in 4th to 8th column from (name of the corresponding film as a string and NaN values) to Boolean values "
   ]
  },
  {
   "cell_type": "code",
   "execution_count": 37,
   "metadata": {
    "scrolled": true
   },
   "outputs": [],
   "source": [
    "for column in star_wars.columns[3:9] :\n",
    "    film = star_wars[column].value_counts().index[0]\n",
    "    star_wars[column] = star_wars[column].map({film:True,np.NAN:False})"
   ]
  },
  {
   "cell_type": "markdown",
   "metadata": {},
   "source": [
    "## Rename 4th to 8th columns names"
   ]
  },
  {
   "cell_type": "code",
   "execution_count": 40,
   "metadata": {},
   "outputs": [
    {
     "data": {
      "text/plain": [
       "{'Which of the following Star Wars films have you seen? Please select all that apply.': 'seen_1',\n",
       " 'Unnamed: 4': 'seen_2',\n",
       " 'Unnamed: 5': 'seen_3',\n",
       " 'Unnamed: 6': 'seen_4',\n",
       " 'Unnamed: 7': 'seen_5',\n",
       " 'Unnamed: 8': 'seen_6'}"
      ]
     },
     "execution_count": 40,
     "metadata": {},
     "output_type": "execute_result"
    }
   ],
   "source": [
    "columns_map = {}\n",
    "i = 0\n",
    "for c in star_wars.columns[3:9] :\n",
    "    i += 1\n",
    "    columns_map[c] = f'seen_{i}'\n",
    "columns_map"
   ]
  },
  {
   "cell_type": "code",
   "execution_count": 41,
   "metadata": {},
   "outputs": [],
   "source": [
    "star_wars = star_wars.rename(columns = columns_map)"
   ]
  },
  {
   "cell_type": "markdown",
   "metadata": {},
   "source": [
    "## Cleaning the ranking columns"
   ]
  },
  {
   "cell_type": "code",
   "execution_count": 43,
   "metadata": {},
   "outputs": [],
   "source": [
    "star_wars[star_wars.columns[9:15]] = star_wars[star_wars.columns[9:15]].astype(float)"
   ]
  },
  {
   "cell_type": "code",
   "execution_count": 44,
   "metadata": {},
   "outputs": [
    {
     "data": {
      "text/plain": [
       "{'Please rank the Star Wars films in order of preference with 1 being your favorite film in the franchise and 6 being your least favorite film.': 'ranking_1',\n",
       " 'Unnamed: 10': 'ranking_2',\n",
       " 'Unnamed: 11': 'ranking_3',\n",
       " 'Unnamed: 12': 'ranking_4',\n",
       " 'Unnamed: 13': 'ranking_5',\n",
       " 'Unnamed: 14': 'ranking_6'}"
      ]
     },
     "execution_count": 44,
     "metadata": {},
     "output_type": "execute_result"
    }
   ],
   "source": [
    "ranking_columns_map = {}\n",
    "j = 0\n",
    "for c in star_wars.columns[9:15] :\n",
    "    j += 1\n",
    "    ranking_columns_map[c] = f'ranking_{j}'\n",
    "ranking_columns_map"
   ]
  },
  {
   "cell_type": "code",
   "execution_count": 45,
   "metadata": {},
   "outputs": [],
   "source": [
    "star_wars = star_wars.rename(columns = ranking_columns_map)"
   ]
  },
  {
   "cell_type": "markdown",
   "metadata": {},
   "source": [
    "## Finding the highest-ranked movie"
   ]
  },
  {
   "cell_type": "code",
   "execution_count": 47,
   "metadata": {},
   "outputs": [],
   "source": [
    "# Let's calculate the mean value of each ranking\n",
    "ranking_means = []\n",
    "for c in star_wars.columns[9:15] :\n",
    "    ranking_means.append(star_wars[c].mean())\n",
    "ranking_means_tuple = tuple(ranking_means)"
   ]
  },
  {
   "cell_type": "code",
   "execution_count": 48,
   "metadata": {},
   "outputs": [
    {
     "data": {
      "text/plain": [
       "[Text(0, 0, 'r1'),\n",
       " Text(0, 0, 'r2'),\n",
       " Text(0, 0, 'r3'),\n",
       " Text(0, 0, 'r4'),\n",
       " Text(0, 0, 'r5'),\n",
       " Text(0, 0, 'r6')]"
      ]
     },
     "execution_count": 48,
     "metadata": {},
     "output_type": "execute_result"
    },
    {
     "data": {
      "image/png": "[encoded data removed]",
      "text/plain": [
       "<Figure size 432x288 with 1 Axes>"
      ]
     },
     "metadata": {
      "needs_background": "light"
     },
     "output_type": "display_data"
    }
   ],
   "source": [
    "%matplotlib inline\n",
    "\n",
    "ind = np.arange(6)  # the x locations for the groups\n",
    "width = 0.35       # the width of the bars\n",
    "\n",
    "fig, ax = plt.subplots()\n",
    "ax.bar(ind, ranking_means_tuple, width)\n",
    "\n",
    "ax.set_ylabel('mean ranking')\n",
    "ax.set_xlabel('ranking')\n",
    "ax.set_xticks(ind + width / 2)\n",
    "ax.set_xticklabels(('r1', 'r2', 'r3', 'r4', 'r5','r6'))"
   ]
  },
  {
   "cell_type": "markdown",
   "metadata": {},
   "source": [
    "So far, I cleaned the ranking columns, calculated the mean value for each and created a bar plot for each ranking.\n",
    "We can see that ranking 5 has the best (lowest) mean value.\n",
    "So Star Wars: Episode V The Empire Strikes Back has the best average ranking."
   ]
  },
  {
   "cell_type": "markdown",
   "metadata": {},
   "source": [
    "## Finding the most viewed movie"
   ]
  },
  {
   "cell_type": "code",
   "execution_count": 49,
   "metadata": {},
   "outputs": [],
   "source": [
    "seen_sum ={}\n",
    "for c in star_wars.columns[3:9] :\n",
    "    seen_sum[c] = star_wars[c].sum()"
   ]
  },
  {
   "cell_type": "code",
   "execution_count": 51,
   "metadata": {},
   "outputs": [
    {
     "data": {
      "text/plain": [
       "[Text(0, 0, 'seen_1'),\n",
       " Text(0, 0, 'seen_2'),\n",
       " Text(0, 0, 'seen_3'),\n",
       " Text(0, 0, 'seen_4'),\n",
       " Text(0, 0, 'seen_5'),\n",
       " Text(0, 0, 'seen_6')]"
      ]
     },
     "execution_count": 51,
     "metadata": {},
     "output_type": "execute_result"
    },
    {
     "data": {
      "image/png": "[encoded data removed]",
      "text/plain": [
       "<Figure size 432x288 with 1 Axes>"
      ]
     },
     "metadata": {
      "needs_background": "light"
     },
     "output_type": "display_data"
    }
   ],
   "source": [
    "seen_sum_tuple = tuple(seen_sum.values())\n",
    "\n",
    "%matplotlib inline\n",
    "fig, ax = plt.subplots()\n",
    "ax.bar(ind, seen_sum_tuple, width)\n",
    "\n",
    "ax.set_ylabel('Seen sum')\n",
    "ax.set_xlabel('film')\n",
    "ax.set_xticks(ind + width / 2)\n",
    "ax.set_xticklabels(tuple(seen_sum))"
   ]
  },
  {
   "cell_type": "markdown",
   "metadata": {},
   "source": [
    "The most seen film is the fifth one : \"Star Wars: Episode V The Empire Strikes Back\""
   ]
  },
  {
   "cell_type": "markdown",
   "metadata": {},
   "source": [
    "## Exploring the Data by Binary Segments"
   ]
  },
  {
   "cell_type": "markdown",
   "metadata": {},
   "source": [
    "Let's split the data into two groups based on the column : \"Do you consider yourself to be a fan of the Star Wars film franchise?\""
   ]
  },
  {
   "cell_type": "code",
   "execution_count": 53,
   "metadata": {},
   "outputs": [],
   "source": [
    "star_wars_fan = star_wars[star_wars[star_wars.columns[2]] == True]\n",
    "star_wars_fan.name = 'sw_franchise_fans'\n",
    "not_star_wars_fan = star_wars[star_wars[star_wars.columns[2]] ==False]\n",
    "not_star_wars_fan.name = 'sw_franchise_non_fans'"
   ]
  },
  {
   "cell_type": "markdown",
   "metadata": {},
   "source": [
    "# Finding the highest ranked movie by people who consider themselves to be fan of the star wars franchise "
   ]
  },
  {
   "cell_type": "markdown",
   "metadata": {},
   "source": [
    "Let's create functions that do the same analyisis on a given group of our data frame \n",
    "The analysis includes :\n",
    "- finding the most seen film and visualizing the sum of seen values for each film --> this will be done by analyze_seen function\n",
    "- finding the best ranked film and visualizing the mean values of the each film rankings --> this will be done by analyze_ranking function"
   ]
  },
  {
   "cell_type": "code",
   "execution_count": 89,
   "metadata": {},
   "outputs": [],
   "source": [
    "def analyze_ranking(df) :\n",
    "    \n",
    "    ranking_mean_per_film = {}\n",
    "    for c in df.columns[9:15] :\n",
    "        ranking_mean_per_film[c] = df[c].mean()\n",
    "    \n",
    "    print('Mean rankings by',df.name,'for each film are :','\\n',ranking_mean_per_film)\n",
    "    print('\\n')\n",
    "    \n",
    "    ranking_mean_per_film_tuple = tuple(ranking_mean_per_film.values())\n",
    "    \n",
    "    fig, ax = plt.subplots()\n",
    "    ind = np.arange(6)  \n",
    "    width = 0.35       \n",
    "    ax.bar(ind, ranking_mean_per_film_tuple, width)\n",
    "    ax.set_ylabel('mean ranking')\n",
    "    ax.set_xlabel('ranking')\n",
    "    ax.set_xticks(ind + width / 2)\n",
    "    ax.set_xticklabels(tuple(ranking_mean_per_film))\n",
    "    ax.set_title('Films ranking means for '+ df.name)"
   ]
  },
  {
   "cell_type": "code",
   "execution_count": 90,
   "metadata": {},
   "outputs": [],
   "source": [
    "def analyze_seen(df) :\n",
    "    \n",
    "    seen_sum_per_film = {}  \n",
    "    for c in df.columns[3:9] :\n",
    "        seen_sum_per_film[c] = df[c].sum()\n",
    "        \n",
    "    print('Seen sums by',df.name,'for each film are :','\\n',seen_sum_per_film)\n",
    "    print('\\n')\n",
    "        \n",
    "    seen_sum_per_film_tuple = tuple(seen_sum_per_film.values())\n",
    "    \n",
    "    fig, ax = plt.subplots()\n",
    "    ind = np.arange(6)  \n",
    "    width = 0.35       \n",
    "    ax.bar(ind, seen_sum_per_film_tuple, width)\n",
    "    ax.set_ylabel('seen sum')\n",
    "    ax.set_xlabel('film')\n",
    "    ax.set_xticks(ind + width / 2)\n",
    "    ax.set_xticklabels(tuple(seen_sum_per_film))\n",
    "    ax.set_title('Films seen sums for '+ df.name)"
   ]
  },
  {
   "cell_type": "markdown",
   "metadata": {},
   "source": [
    "Let's analyze mean rankings for the first group (star wars franchise fans)"
   ]
  },
  {
   "cell_type": "code",
   "execution_count": 91,
   "metadata": {},
   "outputs": [
    {
     "name": "stdout",
     "output_type": "stream",
     "text": [
      "Mean rankings by sw_franchise_fans for each film are : \n",
      " {'ranking_1': 4.141304347826087, 'ranking_2': 4.342391304347826, 'ranking_3': 4.417422867513611, 'ranking_4': 2.9329710144927534, 'ranking_5': 2.3333333333333335, 'ranking_6': 2.829710144927536}\n",
      "\n",
      "\n"
     ]
    },
    {
     "data": {
      "image/png": "[encoded data removed]",
      "text/plain": [
       "<Figure size 432x288 with 1 Axes>"
      ]
     },
     "metadata": {
      "needs_background": "light"
     },
     "output_type": "display_data"
    }
   ],
   "source": [
    "analyze_ranking(star_wars_fan)"
   ]
  },
  {
   "cell_type": "markdown",
   "metadata": {},
   "source": [
    "Let's analyze seen sums for the first group (star wars franchise fans)"
   ]
  },
  {
   "cell_type": "code",
   "execution_count": 92,
   "metadata": {},
   "outputs": [
    {
     "name": "stdout",
     "output_type": "stream",
     "text": [
      "Seen sums by sw_franchise_fans for each film are : \n",
      " {'seen_1': 500, 'seen_2': 463, 'seen_3': 450, 'seen_4': 483, 'seen_5': 538, 'seen_6': 537}\n",
      "\n",
      "\n"
     ]
    },
    {
     "data": {
      "image/png": "[encoded data removed]",
      "text/plain": [
       "<Figure size 432x288 with 1 Axes>"
      ]
     },
     "metadata": {
      "needs_background": "light"
     },
     "output_type": "display_data"
    }
   ],
   "source": [
    "analyze_seen(star_wars_fan)"
   ]
  },
  {
   "cell_type": "markdown",
   "metadata": {},
   "source": [
    "Let's analyze mean rankings for the second group (star wars franchise non fans)"
   ]
  },
  {
   "cell_type": "code",
   "execution_count": 93,
   "metadata": {},
   "outputs": [
    {
     "name": "stdout",
     "output_type": "stream",
     "text": [
      "Mean rankings by sw_franchise_non_fans for each film are : \n",
      " {'ranking_1': 2.9363957597173145, 'ranking_2': 3.591549295774648, 'ranking_3': 4.193661971830986, 'ranking_4': 3.933098591549296, 'ranking_5': 2.862676056338028, 'ranking_6': 3.471830985915493}\n",
      "\n",
      "\n"
     ]
    },
    {
     "data": {
      "image/png": "[encoded data removed]",
      "text/plain": [
       "<Figure size 432x288 with 1 Axes>"
      ]
     },
     "metadata": {
      "needs_background": "light"
     },
     "output_type": "display_data"
    }
   ],
   "source": [
    "analyze_ranking(not_star_wars_fan)"
   ]
  },
  {
   "cell_type": "markdown",
   "metadata": {},
   "source": [
    "Let's analyze mean rankings for the second group (star wars franchise non fans)"
   ]
  },
  {
   "cell_type": "code",
   "execution_count": 94,
   "metadata": {},
   "outputs": [
    {
     "name": "stdout",
     "output_type": "stream",
     "text": [
      "Seen sums by sw_franchise_non_fans for each film are : \n",
      " {'seen_1': 173, 'seen_2': 108, 'seen_3': 100, 'seen_4': 124, 'seen_5': 220, 'seen_6': 201}\n",
      "\n",
      "\n"
     ]
    },
    {
     "data": {
      "image/png": "[encoded data removed]",
      "text/plain": [
       "<Figure size 432x288 with 1 Axes>"
      ]
     },
     "metadata": {
      "needs_background": "light"
     },
     "output_type": "display_data"
    }
   ],
   "source": [
    "analyze_seen(not_star_wars_fan)"
   ]
  },
  {
   "cell_type": "markdown",
   "metadata": {},
   "source": [
    "In the four bar plots above we can see that :\n",
    "- SW franchise fans ranked the fifth film the best and saw it the most\n",
    "- SW franchise non fans ranked also the fifth film the best and saw it the most\n",
    "\n",
    "So the fifth film \"Star Wars: Episode V The Empire Strikes Back\" was the best ranked and most seen by both star wars franchise fans and non fans. We can say that it is the most successful one."
   ]
  },
  {
   "cell_type": "markdown",
   "metadata": {},
   "source": [
    "## Segment the data based on education column which is not binary and look for any interesting patterns :"
   ]
  },
  {
   "cell_type": "markdown",
   "metadata": {},
   "source": [
    "Let's explore values of the column 'Education'"
   ]
  },
  {
   "cell_type": "code",
   "execution_count": 95,
   "metadata": {},
   "outputs": [
    {
     "data": {
      "text/plain": [
       "Some college or Associate degree    328\n",
       "Bachelor degree                     321\n",
       "Graduate degree                     275\n",
       "High school degree                  105\n",
       "Less than high school degree          7\n",
       "Name: Education, dtype: int64"
      ]
     },
     "execution_count": 95,
     "metadata": {},
     "output_type": "execute_result"
    }
   ],
   "source": [
    "star_wars['Education'].value_counts()"
   ]
  },
  {
   "cell_type": "code",
   "execution_count": 96,
   "metadata": {},
   "outputs": [],
   "source": [
    "college = star_wars[star_wars['Education']=='Some college or Associate degree']\n",
    "college.name = 'college_degree_owners'\n",
    "bachelor = star_wars[star_wars['Education']=='Bachelor degree']\n",
    "bachelor.name = 'bachelor_degree_owners'\n",
    "graduate = star_wars[star_wars['Education']=='Graduate degree']\n",
    "graduate.name = 'graduate_degree_owners'\n",
    "high_school = star_wars[star_wars['Education']=='High school degree']\n",
    "high_school.name = 'high_school_degree_owners'\n",
    "less = star_wars[star_wars['Education']=='Less than high school degree']\n",
    "less.name = 'less_than_high_school_degree_owners'"
   ]
  },
  {
   "cell_type": "markdown",
   "metadata": {},
   "source": [
    "### let's analyze ranking and seen data for each segment :"
   ]
  },
  {
   "cell_type": "code",
   "execution_count": 97,
   "metadata": {},
   "outputs": [
    {
     "name": "stdout",
     "output_type": "stream",
     "text": [
      "Mean rankings by college_degree_owners for each film are : \n",
      " {'ranking_1': 3.5511811023622046, 'ranking_2': 3.8858267716535435, 'ranking_3': 4.102362204724409, 'ranking_4': 3.5039370078740157, 'ranking_5': 2.783464566929134, 'ranking_6': 3.173228346456693}\n",
      "\n",
      "\n",
      "Seen sums by college_degree_owners for each film are : \n",
      " {'seen_1': 211, 'seen_2': 186, 'seen_3': 183, 'seen_4': 180, 'seen_5': 227, 'seen_6': 223}\n",
      "\n",
      "\n"
     ]
    },
    {
     "data": {
      "image/png": "[encoded data removed]",
      "text/plain": [
       "<Figure size 432x288 with 1 Axes>"
      ]
     },
     "metadata": {
      "needs_background": "light"
     },
     "output_type": "display_data"
    },
    {
     "data": {
      "image/png": "[encoded data removed]",
      "text/plain": [
       "<Figure size 432x288 with 1 Axes>"
      ]
     },
     "metadata": {
      "needs_background": "light"
     },
     "output_type": "display_data"
    }
   ],
   "source": [
    "analyze_ranking(college)\n",
    "analyze_seen(college)"
   ]
  },
  {
   "cell_type": "code",
   "execution_count": 98,
   "metadata": {},
   "outputs": [
    {
     "name": "stdout",
     "output_type": "stream",
     "text": [
      "Mean rankings by bachelor_degree_owners for each film are : \n",
      " {'ranking_1': 3.8282442748091605, 'ranking_2': 4.290076335877862, 'ranking_3': 4.521072796934866, 'ranking_4': 3.114503816793893, 'ranking_5': 2.3091603053435112, 'ranking_6': 2.931297709923664}\n",
      "\n",
      "\n",
      "Seen sums by bachelor_degree_owners for each film are : \n",
      " {'seen_1': 206, 'seen_2': 170, 'seen_3': 163, 'seen_4': 195, 'seen_5': 243, 'seen_6': 234}\n",
      "\n",
      "\n"
     ]
    },
    {
     "data": {
      "image/png": "[encoded data removed]",
      "text/plain": [
       "<Figure size 432x288 with 1 Axes>"
      ]
     },
     "metadata": {
      "needs_background": "light"
     },
     "output_type": "display_data"
    },
    {
     "data": {
      "image/png": "[encoded data removed]",
      "text/plain": [
       "<Figure size 432x288 with 1 Axes>"
      ]
     },
     "metadata": {
      "needs_background": "light"
     },
     "output_type": "display_data"
    }
   ],
   "source": [
    "analyze_ranking(bachelor)\n",
    "analyze_seen(bachelor)"
   ]
  },
  {
   "cell_type": "code",
   "execution_count": 99,
   "metadata": {},
   "outputs": [
    {
     "name": "stdout",
     "output_type": "stream",
     "text": [
      "Mean rankings by graduate_degree_owners for each film are : \n",
      " {'ranking_1': 3.8222222222222224, 'ranking_2': 4.225663716814159, 'ranking_3': 4.5, 'ranking_4': 3.1991150442477876, 'ranking_5': 2.3230088495575223, 'ranking_6': 2.920353982300885}\n",
      "\n",
      "\n",
      "Seen sums by graduate_degree_owners for each film are : \n",
      " {'seen_1': 179, 'seen_2': 149, 'seen_3': 139, 'seen_4': 163, 'seen_5': 207, 'seen_6': 201}\n",
      "\n",
      "\n"
     ]
    },
    {
     "data": {
      "image/png": "[encoded data removed]",
      "text/plain": [
       "<Figure size 432x288 with 1 Axes>"
      ]
     },
     "metadata": {
      "needs_background": "light"
     },
     "output_type": "display_data"
    },
    {
     "data": {
      "image/png": "[encoded data removed]",
      "text/plain": [
       "<Figure size 432x288 with 1 Axes>"
      ]
     },
     "metadata": {
      "needs_background": "light"
     },
     "output_type": "display_data"
    }
   ],
   "source": [
    "analyze_ranking(graduate)\n",
    "analyze_seen(graduate)"
   ]
  },
  {
   "cell_type": "code",
   "execution_count": 100,
   "metadata": {},
   "outputs": [
    {
     "name": "stdout",
     "output_type": "stream",
     "text": [
      "Mean rankings by high_school_degree_owners for each film are : \n",
      " {'ranking_1': 3.8028169014084505, 'ranking_2': 3.7464788732394365, 'ranking_3': 4.126760563380282, 'ranking_4': 3.211267605633803, 'ranking_5': 2.8732394366197185, 'ranking_6': 3.23943661971831}\n",
      "\n",
      "\n",
      "Seen sums by high_school_degree_owners for each film are : \n",
      " {'seen_1': 57, 'seen_2': 48, 'seen_3': 48, 'seen_4': 53, 'seen_5': 61, 'seen_6': 60}\n",
      "\n",
      "\n"
     ]
    },
    {
     "data": {
      "image/png": "[encoded data removed]",
      "text/plain": [
       "<Figure size 432x288 with 1 Axes>"
      ]
     },
     "metadata": {
      "needs_background": "light"
     },
     "output_type": "display_data"
    },
    {
     "data": {
      "image/png": "[encoded data removed]",
      "text/plain": [
       "<Figure size 432x288 with 1 Axes>"
      ]
     },
     "metadata": {
      "needs_background": "light"
     },
     "output_type": "display_data"
    }
   ],
   "source": [
    "analyze_ranking(high_school)\n",
    "analyze_seen(high_school)"
   ]
  },
  {
   "cell_type": "code",
   "execution_count": 101,
   "metadata": {},
   "outputs": [
    {
     "name": "stdout",
     "output_type": "stream",
     "text": [
      "Mean rankings by less_than_high_school_degree_owners for each film are : \n",
      " {'ranking_1': 5.0, 'ranking_2': 5.333333333333333, 'ranking_3': 3.6666666666666665, 'ranking_4': 2.6666666666666665, 'ranking_5': 1.0, 'ranking_6': 3.3333333333333335}\n",
      "\n",
      "\n",
      "Seen sums by less_than_high_school_degree_owners for each film are : \n",
      " {'seen_1': 3, 'seen_2': 3, 'seen_3': 3, 'seen_4': 3, 'seen_5': 3, 'seen_6': 3}\n",
      "\n",
      "\n"
     ]
    },
    {
     "data": {
      "image/png": "[encoded data removed]",
      "text/plain": [
       "<Figure size 432x288 with 1 Axes>"
      ]
     },
     "metadata": {
      "needs_background": "light"
     },
     "output_type": "display_data"
    },
    {
     "data": {
      "image/png": "[encoded data removed]",
      "text/plain": [
       "<Figure size 432x288 with 1 Axes>"
      ]
     },
     "metadata": {
      "needs_background": "light"
     },
     "output_type": "display_data"
    }
   ],
   "source": [
    "analyze_ranking(less)\n",
    "analyze_seen(less)"
   ]
  },
  {
   "cell_type": "markdown",
   "metadata": {},
   "source": [
    "On the bar plots above we can see, that the variation of seen and ranking values decreases with decreasing education level. So we can say that people with lower education levels evaluate all the six films almost equally."
   ]
  },
  {
   "cell_type": "markdown",
   "metadata": {},
   "source": [
    "## Clean up columns 15 to 29, which contain data on the characters respondents view favorably and unfavorably"
   ]
  },
  {
   "cell_type": "markdown",
   "metadata": {},
   "source": [
    "let's look at these columns "
   ]
  },
  {
   "cell_type": "code",
   "execution_count": 29,
   "metadata": {},
   "outputs": [
    {
     "data": {
      "text/html": [
       "<div>\n",
       "<style scoped>\n",
       "    .dataframe tbody tr th:only-of-type {\n",
       "        vertical-align: middle;\n",
       "    }\n",
       "\n",
       "    .dataframe tbody tr th {\n",
       "        vertical-align: top;\n",
       "    }\n",
       "\n",
       "    .dataframe thead th {\n",
       "        text-align: right;\n",
       "    }\n",
       "</style>\n",
       "<table border=\"1\" class=\"dataframe\">\n",
       "  <thead>\n",
       "    <tr style=\"text-align: right;\">\n",
       "      <th></th>\n",
       "      <th>Please state whether you view the following characters favorably, unfavorably, or are unfamiliar with him/her.</th>\n",
       "      <th>Unnamed: 16</th>\n",
       "      <th>Unnamed: 17</th>\n",
       "      <th>Unnamed: 18</th>\n",
       "      <th>Unnamed: 19</th>\n",
       "      <th>Unnamed: 20</th>\n",
       "      <th>Unnamed: 21</th>\n",
       "      <th>Unnamed: 22</th>\n",
       "      <th>Unnamed: 23</th>\n",
       "      <th>Unnamed: 24</th>\n",
       "      <th>Unnamed: 25</th>\n",
       "      <th>Unnamed: 26</th>\n",
       "      <th>Unnamed: 27</th>\n",
       "      <th>Unnamed: 28</th>\n",
       "    </tr>\n",
       "  </thead>\n",
       "  <tbody>\n",
       "    <tr>\n",
       "      <th>1</th>\n",
       "      <td>Very favorably</td>\n",
       "      <td>Very favorably</td>\n",
       "      <td>Very favorably</td>\n",
       "      <td>Very favorably</td>\n",
       "      <td>Very favorably</td>\n",
       "      <td>Very favorably</td>\n",
       "      <td>Very favorably</td>\n",
       "      <td>Unfamiliar (N/A)</td>\n",
       "      <td>Unfamiliar (N/A)</td>\n",
       "      <td>Very favorably</td>\n",
       "      <td>Very favorably</td>\n",
       "      <td>Very favorably</td>\n",
       "      <td>Very favorably</td>\n",
       "      <td>Very favorably</td>\n",
       "    </tr>\n",
       "    <tr>\n",
       "      <th>2</th>\n",
       "      <td>NaN</td>\n",
       "      <td>NaN</td>\n",
       "      <td>NaN</td>\n",
       "      <td>NaN</td>\n",
       "      <td>NaN</td>\n",
       "      <td>NaN</td>\n",
       "      <td>NaN</td>\n",
       "      <td>NaN</td>\n",
       "      <td>NaN</td>\n",
       "      <td>NaN</td>\n",
       "      <td>NaN</td>\n",
       "      <td>NaN</td>\n",
       "      <td>NaN</td>\n",
       "      <td>NaN</td>\n",
       "    </tr>\n",
       "    <tr>\n",
       "      <th>3</th>\n",
       "      <td>Somewhat favorably</td>\n",
       "      <td>Somewhat favorably</td>\n",
       "      <td>Somewhat favorably</td>\n",
       "      <td>Somewhat favorably</td>\n",
       "      <td>Somewhat favorably</td>\n",
       "      <td>Unfamiliar (N/A)</td>\n",
       "      <td>Unfamiliar (N/A)</td>\n",
       "      <td>Unfamiliar (N/A)</td>\n",
       "      <td>Unfamiliar (N/A)</td>\n",
       "      <td>Unfamiliar (N/A)</td>\n",
       "      <td>Unfamiliar (N/A)</td>\n",
       "      <td>Unfamiliar (N/A)</td>\n",
       "      <td>Unfamiliar (N/A)</td>\n",
       "      <td>Unfamiliar (N/A)</td>\n",
       "    </tr>\n",
       "    <tr>\n",
       "      <th>4</th>\n",
       "      <td>Very favorably</td>\n",
       "      <td>Very favorably</td>\n",
       "      <td>Very favorably</td>\n",
       "      <td>Very favorably</td>\n",
       "      <td>Very favorably</td>\n",
       "      <td>Somewhat favorably</td>\n",
       "      <td>Very favorably</td>\n",
       "      <td>Somewhat favorably</td>\n",
       "      <td>Somewhat unfavorably</td>\n",
       "      <td>Very favorably</td>\n",
       "      <td>Very favorably</td>\n",
       "      <td>Very favorably</td>\n",
       "      <td>Very favorably</td>\n",
       "      <td>Very favorably</td>\n",
       "    </tr>\n",
       "    <tr>\n",
       "      <th>5</th>\n",
       "      <td>Very favorably</td>\n",
       "      <td>Somewhat favorably</td>\n",
       "      <td>Somewhat favorably</td>\n",
       "      <td>Somewhat unfavorably</td>\n",
       "      <td>Very favorably</td>\n",
       "      <td>Very unfavorably</td>\n",
       "      <td>Somewhat favorably</td>\n",
       "      <td>Neither favorably nor unfavorably (neutral)</td>\n",
       "      <td>Very favorably</td>\n",
       "      <td>Somewhat favorably</td>\n",
       "      <td>Somewhat favorably</td>\n",
       "      <td>Very unfavorably</td>\n",
       "      <td>Somewhat favorably</td>\n",
       "      <td>Somewhat favorably</td>\n",
       "    </tr>\n",
       "  </tbody>\n",
       "</table>\n",
       "</div>"
      ],
      "text/plain": [
       "  Please state whether you view the following characters favorably, unfavorably, or are unfamiliar with him/her.  \\\n",
       "1                                     Very favorably                                                               \n",
       "2                                                NaN                                                               \n",
       "3                                 Somewhat favorably                                                               \n",
       "4                                     Very favorably                                                               \n",
       "5                                     Very favorably                                                               \n",
       "\n",
       "          Unnamed: 16         Unnamed: 17           Unnamed: 18  \\\n",
       "1      Very favorably      Very favorably        Very favorably   \n",
       "2                 NaN                 NaN                   NaN   \n",
       "3  Somewhat favorably  Somewhat favorably    Somewhat favorably   \n",
       "4      Very favorably      Very favorably        Very favorably   \n",
       "5  Somewhat favorably  Somewhat favorably  Somewhat unfavorably   \n",
       "\n",
       "          Unnamed: 19         Unnamed: 20         Unnamed: 21  \\\n",
       "1      Very favorably      Very favorably      Very favorably   \n",
       "2                 NaN                 NaN                 NaN   \n",
       "3  Somewhat favorably    Unfamiliar (N/A)    Unfamiliar (N/A)   \n",
       "4      Very favorably  Somewhat favorably      Very favorably   \n",
       "5      Very favorably    Very unfavorably  Somewhat favorably   \n",
       "\n",
       "                                   Unnamed: 22           Unnamed: 23  \\\n",
       "1                             Unfamiliar (N/A)      Unfamiliar (N/A)   \n",
       "2                                          NaN                   NaN   \n",
       "3                             Unfamiliar (N/A)      Unfamiliar (N/A)   \n",
       "4                           Somewhat favorably  Somewhat unfavorably   \n",
       "5  Neither favorably nor unfavorably (neutral)        Very favorably   \n",
       "\n",
       "          Unnamed: 24         Unnamed: 25       Unnamed: 26  \\\n",
       "1      Very favorably      Very favorably    Very favorably   \n",
       "2                 NaN                 NaN               NaN   \n",
       "3    Unfamiliar (N/A)    Unfamiliar (N/A)  Unfamiliar (N/A)   \n",
       "4      Very favorably      Very favorably    Very favorably   \n",
       "5  Somewhat favorably  Somewhat favorably  Very unfavorably   \n",
       "\n",
       "          Unnamed: 27         Unnamed: 28  \n",
       "1      Very favorably      Very favorably  \n",
       "2                 NaN                 NaN  \n",
       "3    Unfamiliar (N/A)    Unfamiliar (N/A)  \n",
       "4      Very favorably      Very favorably  \n",
       "5  Somewhat favorably  Somewhat favorably  "
      ]
     },
     "execution_count": 29,
     "metadata": {},
     "output_type": "execute_result"
    }
   ],
   "source": [
    "star_wars[star_wars.columns[15:29]].head()"
   ]
  },
  {
   "cell_type": "code",
   "execution_count": 102,
   "metadata": {},
   "outputs": [
    {
     "data": {
      "text/plain": [
       "Very favorably                                 610\n",
       "Somewhat favorably                             151\n",
       "Neither favorably nor unfavorably (neutral)     44\n",
       "Unfamiliar (N/A)                                15\n",
       "Somewhat unfavorably                             8\n",
       "Very unfavorably                                 1\n",
       "Name: Please state whether you view the following characters favorably, unfavorably, or are unfamiliar with him/her., dtype: int64"
      ]
     },
     "execution_count": 102,
     "metadata": {},
     "output_type": "execute_result"
    }
   ],
   "source": [
    "star_wars[star_wars.columns[15]].value_counts()"
   ]
  },
  {
   "cell_type": "code",
   "execution_count": 103,
   "metadata": {},
   "outputs": [
    {
     "data": {
      "text/plain": [
       "Very favorably                                 552\n",
       "NaN                                            355\n",
       "Somewhat favorably                             219\n",
       "Neither favorably nor unfavorably (neutral)     38\n",
       "Somewhat unfavorably                            13\n",
       "Unfamiliar (N/A)                                 6\n",
       "Very unfavorably                                 3\n",
       "Name: Unnamed: 16, dtype: int64"
      ]
     },
     "execution_count": 103,
     "metadata": {},
     "output_type": "execute_result"
    }
   ],
   "source": [
    "star_wars[star_wars.columns[16]].value_counts(dropna=False)"
   ]
  },
  {
   "cell_type": "markdown",
   "metadata": {},
   "source": [
    "It seems like all the columns evaluate the caracters the same way : from very unfavorably to very favorably.\n",
    "So we can map these data to float values (1 is the best and 6 is the worst evaluation).\n",
    "This evaluation system is the same as the film ranking system."
   ]
  },
  {
   "cell_type": "code",
   "execution_count": 104,
   "metadata": {},
   "outputs": [],
   "source": [
    "evaluation_map = {'Very favorably':1,\n",
    "                  'Somewhat favorably':2,\n",
    "                  'Neither favorably nor unfavorably (neutral)':3,\n",
    "                  'Somewhat unfavorably':4,\n",
    "                  'Unfamiliar (N/A)':5,\n",
    "                  'Very unfavorably':6 }\n",
    "\n",
    "for c in star_wars.columns[15:29] :\n",
    "    star_wars[c] = star_wars[c].map(evaluation_map)"
   ]
  },
  {
   "cell_type": "markdown",
   "metadata": {},
   "source": [
    "Mapping the caracters columns names :"
   ]
  },
  {
   "cell_type": "code",
   "execution_count": 106,
   "metadata": {},
   "outputs": [
    {
     "data": {
      "text/plain": [
       "{'Please state whether you view the following characters favorably, unfavorably, or are unfamiliar with him/her.': 'Han Solo',\n",
       " 'Unnamed: 16': 'Luke Skywalker',\n",
       " 'Unnamed: 17': 'Princess Leia Organa',\n",
       " 'Unnamed: 18': 'Anakin Skywalker',\n",
       " 'Unnamed: 19': 'Obi Wan Kenobi',\n",
       " 'Unnamed: 20': 'Emperor Palpatine',\n",
       " 'Unnamed: 21': 'Darth Vader',\n",
       " 'Unnamed: 22': 'Lando Calrissian',\n",
       " 'Unnamed: 23': 'Boba Fett',\n",
       " 'Unnamed: 24': 'C-3P0',\n",
       " 'Unnamed: 25': 'R2 D2',\n",
       " 'Unnamed: 26': 'Jar Jar Binks',\n",
       " 'Unnamed: 27': 'Padme Amidala',\n",
       " 'Unnamed: 28': 'Yoda'}"
      ]
     },
     "execution_count": 106,
     "metadata": {},
     "output_type": "execute_result"
    }
   ],
   "source": [
    "star_wars_raw = pd.read_csv('./data/star_wars.csv')\n",
    "characters_columns_map = {}\n",
    "i = 15\n",
    "for c in star_wars.columns[15:29] :\n",
    "    characters_columns_map[c] = star_wars_raw.iloc[0,i]\n",
    "    i+=1\n",
    "characters_columns_map"
   ]
  },
  {
   "cell_type": "code",
   "execution_count": 108,
   "metadata": {},
   "outputs": [
    {
     "data": {
      "text/html": [
       "<div>\n",
       "<style scoped>\n",
       "    .dataframe tbody tr th:only-of-type {\n",
       "        vertical-align: middle;\n",
       "    }\n",
       "\n",
       "    .dataframe tbody tr th {\n",
       "        vertical-align: top;\n",
       "    }\n",
       "\n",
       "    .dataframe thead th {\n",
       "        text-align: right;\n",
       "    }\n",
       "</style>\n",
       "<table border=\"1\" class=\"dataframe\">\n",
       "  <thead>\n",
       "    <tr style=\"text-align: right;\">\n",
       "      <th></th>\n",
       "      <th>Han Solo</th>\n",
       "      <th>Luke Skywalker</th>\n",
       "      <th>Princess Leia Organa</th>\n",
       "      <th>Anakin Skywalker</th>\n",
       "      <th>Obi Wan Kenobi</th>\n",
       "      <th>Emperor Palpatine</th>\n",
       "      <th>Darth Vader</th>\n",
       "      <th>Lando Calrissian</th>\n",
       "      <th>Boba Fett</th>\n",
       "      <th>C-3P0</th>\n",
       "      <th>R2 D2</th>\n",
       "      <th>Jar Jar Binks</th>\n",
       "      <th>Padme Amidala</th>\n",
       "      <th>Yoda</th>\n",
       "    </tr>\n",
       "  </thead>\n",
       "  <tbody>\n",
       "    <tr>\n",
       "      <th>1</th>\n",
       "      <td>1.0</td>\n",
       "      <td>1.0</td>\n",
       "      <td>1.0</td>\n",
       "      <td>1.0</td>\n",
       "      <td>1.0</td>\n",
       "      <td>1.0</td>\n",
       "      <td>1.0</td>\n",
       "      <td>5.0</td>\n",
       "      <td>5.0</td>\n",
       "      <td>1.0</td>\n",
       "      <td>1.0</td>\n",
       "      <td>1.0</td>\n",
       "      <td>1.0</td>\n",
       "      <td>1.0</td>\n",
       "    </tr>\n",
       "    <tr>\n",
       "      <th>2</th>\n",
       "      <td>NaN</td>\n",
       "      <td>NaN</td>\n",
       "      <td>NaN</td>\n",
       "      <td>NaN</td>\n",
       "      <td>NaN</td>\n",
       "      <td>NaN</td>\n",
       "      <td>NaN</td>\n",
       "      <td>NaN</td>\n",
       "      <td>NaN</td>\n",
       "      <td>NaN</td>\n",
       "      <td>NaN</td>\n",
       "      <td>NaN</td>\n",
       "      <td>NaN</td>\n",
       "      <td>NaN</td>\n",
       "    </tr>\n",
       "    <tr>\n",
       "      <th>3</th>\n",
       "      <td>2.0</td>\n",
       "      <td>2.0</td>\n",
       "      <td>2.0</td>\n",
       "      <td>2.0</td>\n",
       "      <td>2.0</td>\n",
       "      <td>5.0</td>\n",
       "      <td>5.0</td>\n",
       "      <td>5.0</td>\n",
       "      <td>5.0</td>\n",
       "      <td>5.0</td>\n",
       "      <td>5.0</td>\n",
       "      <td>5.0</td>\n",
       "      <td>5.0</td>\n",
       "      <td>5.0</td>\n",
       "    </tr>\n",
       "    <tr>\n",
       "      <th>4</th>\n",
       "      <td>1.0</td>\n",
       "      <td>1.0</td>\n",
       "      <td>1.0</td>\n",
       "      <td>1.0</td>\n",
       "      <td>1.0</td>\n",
       "      <td>2.0</td>\n",
       "      <td>1.0</td>\n",
       "      <td>2.0</td>\n",
       "      <td>4.0</td>\n",
       "      <td>1.0</td>\n",
       "      <td>1.0</td>\n",
       "      <td>1.0</td>\n",
       "      <td>1.0</td>\n",
       "      <td>1.0</td>\n",
       "    </tr>\n",
       "    <tr>\n",
       "      <th>5</th>\n",
       "      <td>1.0</td>\n",
       "      <td>2.0</td>\n",
       "      <td>2.0</td>\n",
       "      <td>4.0</td>\n",
       "      <td>1.0</td>\n",
       "      <td>6.0</td>\n",
       "      <td>2.0</td>\n",
       "      <td>3.0</td>\n",
       "      <td>1.0</td>\n",
       "      <td>2.0</td>\n",
       "      <td>2.0</td>\n",
       "      <td>6.0</td>\n",
       "      <td>2.0</td>\n",
       "      <td>2.0</td>\n",
       "    </tr>\n",
       "  </tbody>\n",
       "</table>\n",
       "</div>"
      ],
      "text/plain": [
       "   Han Solo  Luke Skywalker  Princess Leia Organa  Anakin Skywalker  \\\n",
       "1       1.0             1.0                   1.0               1.0   \n",
       "2       NaN             NaN                   NaN               NaN   \n",
       "3       2.0             2.0                   2.0               2.0   \n",
       "4       1.0             1.0                   1.0               1.0   \n",
       "5       1.0             2.0                   2.0               4.0   \n",
       "\n",
       "   Obi Wan Kenobi  Emperor Palpatine  Darth Vader  Lando Calrissian  \\\n",
       "1             1.0                1.0          1.0               5.0   \n",
       "2             NaN                NaN          NaN               NaN   \n",
       "3             2.0                5.0          5.0               5.0   \n",
       "4             1.0                2.0          1.0               2.0   \n",
       "5             1.0                6.0          2.0               3.0   \n",
       "\n",
       "   Boba Fett  C-3P0  R2 D2  Jar Jar Binks  Padme Amidala  Yoda  \n",
       "1        5.0    1.0    1.0            1.0            1.0   1.0  \n",
       "2        NaN    NaN    NaN            NaN            NaN   NaN  \n",
       "3        5.0    5.0    5.0            5.0            5.0   5.0  \n",
       "4        4.0    1.0    1.0            1.0            1.0   1.0  \n",
       "5        1.0    2.0    2.0            6.0            2.0   2.0  "
      ]
     },
     "execution_count": 108,
     "metadata": {},
     "output_type": "execute_result"
    }
   ],
   "source": [
    "star_wars = star_wars.rename(columns=characters_columns_map)\n",
    "star_wars[star_wars.columns[15:29]].head()"
   ]
  },
  {
   "cell_type": "markdown",
   "metadata": {},
   "source": [
    "Here we can use a similar method to the analyze_ranking function assigning the mean ranking value to each caracter "
   ]
  },
  {
   "cell_type": "code",
   "execution_count": 110,
   "metadata": {},
   "outputs": [
    {
     "name": "stdout",
     "output_type": "stream",
     "text": [
      "Mean evaluations per character are : \n",
      " {'Han Solo': 1.3956574185765984, 'Luke Skywalker': 1.4488567990373045, 'Princess Leia Organa': 1.4861612515042117, 'Anakin Skywalker': 2.4471445929526126, 'Obi Wan Kenobi': 1.450909090909091, 'Emperor Palpatine': 3.477886977886978, 'Darth Vader': 2.7312348668280872, 'Lando Calrissian': 2.848780487804878, 'Boba Fett': 3.08128078817734, 'C-3P0': 1.6662636033857317, 'R2 D2': 1.4807228915662651, 'Jar Jar Binks': 3.7040194884287456, 'Padme Amidala': 2.961916461916462, 'Yoda': 1.423728813559322}\n"
     ]
    }
   ],
   "source": [
    "ranking_mean_per_character = {}\n",
    "for c in star_wars.columns[15:29] :\n",
    "    ranking_mean_per_character[c] = star_wars[c].mean()\n",
    "    \n",
    "print('Mean evaluations per character are :','\\n',ranking_mean_per_character)"
   ]
  },
  {
   "cell_type": "markdown",
   "metadata": {},
   "source": [
    "Visualizing the mean evaluation for each caracter :"
   ]
  },
  {
   "cell_type": "code",
   "execution_count": 113,
   "metadata": {},
   "outputs": [
    {
     "data": {
      "text/plain": [
       "(array([ 0.175,  1.175,  2.175,  3.175,  4.175,  5.175,  6.175,  7.175,\n",
       "         8.175,  9.175, 10.175, 11.175, 12.175, 13.175]),\n",
       " <a list of 14 Text major ticklabel objects>)"
      ]
     },
     "execution_count": 113,
     "metadata": {},
     "output_type": "execute_result"
    },
    {
     "data": {
      "image/png": "[encoded data removed]",
      "text/plain": [
       "<Figure size 432x288 with 1 Axes>"
      ]
     },
     "metadata": {
      "needs_background": "light"
     },
     "output_type": "display_data"
    }
   ],
   "source": [
    "ranking_mean_per_character_tuple = tuple(ranking_mean_per_character.values())\n",
    "    \n",
    "fig, ax = plt.subplots()\n",
    "ind = np.arange(14)  # the x locations for the groups\n",
    "width = 0.35       # the width of the bars\n",
    "ax.bar(ind, ranking_mean_per_character_tuple, width)\n",
    "ax.set_ylabel('mean evaluation score')\n",
    "ax.set_xlabel('character')\n",
    "ax.set_xticks(ind + width / 2)\n",
    "ax.set_xticklabels(tuple(ranking_mean_per_character))\n",
    "ax.set_title('Mean evaluation score per character')\n",
    "plt.xticks(rotation=90)"
   ]
  },
  {
   "cell_type": "markdown",
   "metadata": {},
   "source": [
    "We can see that like Han Solo the most and dislike Jar Jar Binks the most.\n",
    "The most controversial character must have the closest mean evaluation score to the mean of all characters mean evaluation scores. So let's calculate this value :"
   ]
  },
  {
   "cell_type": "markdown",
   "metadata": {},
   "source": [
    "## Find out the most controversial character"
   ]
  },
  {
   "cell_type": "markdown",
   "metadata": {},
   "source": [
    "Approach: calculate the total mean ranking for all characters and find out the character with the nearest ranking to the total mean."
   ]
  },
  {
   "cell_type": "code",
   "execution_count": 116,
   "metadata": {},
   "outputs": [
    {
     "data": {
      "text/plain": [
       "2.257468823752402"
      ]
     },
     "execution_count": 116,
     "metadata": {},
     "output_type": "execute_result"
    }
   ],
   "source": [
    "_sum = 0\n",
    "count = 0\n",
    "for score in ranking_mean_per_character.values() :\n",
    "    _sum += score\n",
    "    count +=1\n",
    "total_mean = _sum/count\n",
    "total_mean"
   ]
  },
  {
   "cell_type": "markdown",
   "metadata": {},
   "source": [
    "The closest mean evaluation score to the total mean (2.25) is the score of 'Anakin Skywalker' (2.44) so he is the most controversial character."
   ]
  }
 ],
 "metadata": {
  "kernelspec": {
   "display_name": "Python 3",
   "language": "python",
   "name": "python3"
  },
  "language_info": {
   "codemirror_mode": {
    "name": "ipython",
    "version": 3
   },
   "file_extension": ".py",
   "mimetype": "text/x-python",
   "name": "python",
   "nbconvert_exporter": "python",
   "pygments_lexer": "ipython3",
   "version": "3.7.7"
  }
 },
 "nbformat": 4,
 "nbformat_minor": 1
}
